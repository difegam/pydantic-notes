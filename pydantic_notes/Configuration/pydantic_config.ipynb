{
 "cells": [
  {
   "cell_type": "markdown",
   "metadata": {},
   "source": [
    "# Pydantic Configurations\n",
    "\n",
    "> - Documentation: https://pydantic-docs.helpmanual.io/\n",
    "> - Configuration for Pydantic models: https://docs.pydantic.dev/latest/api/config/\n",
    "\n",
    "\n",
    "\n",
    "```python\n",
    "from pydantic import BaseModel, ConfigDict\n",
    "\n",
    "class Model(BaseModel):\n",
    "    model_config = ConfigDict()\n",
    "\n",
    "```"
   ]
  },
  {
   "cell_type": "markdown",
   "metadata": {},
   "source": [
    "## Handling Extra Fields"
   ]
  },
  {
   "cell_type": "code",
   "execution_count": 481,
   "metadata": {},
   "outputs": [],
   "source": [
    "from pydantic import BaseModel, ConfigDict, ValidationError\n",
    "\n",
    "class Model(BaseModel):\n",
    "    field_1: int"
   ]
  },
  {
   "cell_type": "code",
   "execution_count": 482,
   "metadata": {},
   "outputs": [
    {
     "data": {
      "text/plain": [
       "{}"
      ]
     },
     "metadata": {},
     "output_type": "display_data"
    }
   ],
   "source": [
    "display(Model.model_config)"
   ]
  },
  {
   "cell_type": "code",
   "execution_count": 483,
   "metadata": {},
   "outputs": [
    {
     "name": "stdout",
     "output_type": "stream",
     "text": [
      "field_1=1\n",
      "{'field_1': FieldInfo(annotation=int, required=True)}\n",
      "{'field_1'}\n",
      "None\n"
     ]
    }
   ],
   "source": [
    "# This will not raise an error because extra fields are allowed and ignored by default\n",
    "m1 = Model(field_1=1, field_2=2)\n",
    "print(m1)\n",
    "print(m1.model_fields)\n",
    "print(m1.model_fields_set)\n",
    "\n",
    "# See extra fields\n",
    "print(m1.model_extra)"
   ]
  },
  {
   "cell_type": "markdown",
   "metadata": {},
   "source": [
    "__extra__: \n",
    "\n",
    "Whether to ignore, allow, or forbid extra attributes during model initialization. Defaults to 'ignore'.\n",
    "You can configure how pydantic handles the attributes that are not defined in the model:\n",
    "\n",
    "- `allow` - Allow any extra attributes.\n",
    "- `forbid` - Forbid any extra attributes.\n",
    "- `ignore` - Ignore any extra attributes.\n",
    "\n",
    "\n",
    "Doc: https://docs.pydantic.dev/latest/api/config/#pydantic.config.ConfigDict.extra"
   ]
  },
  {
   "cell_type": "code",
   "execution_count": 484,
   "metadata": {},
   "outputs": [],
   "source": [
    "class Model(BaseModel):\n",
    "    model_config = ConfigDict(extra=\"forbid\")\n",
    "\n",
    "    field_1: int"
   ]
  },
  {
   "cell_type": "code",
   "execution_count": 485,
   "metadata": {},
   "outputs": [
    {
     "data": {
      "text/plain": [
       "{'extra': 'forbid'}"
      ]
     },
     "metadata": {},
     "output_type": "display_data"
    }
   ],
   "source": [
    "display(Model.model_config)"
   ]
  },
  {
   "cell_type": "code",
   "execution_count": 486,
   "metadata": {},
   "outputs": [
    {
     "name": "stdout",
     "output_type": "stream",
     "text": [
      "1 validation error for Model\n",
      "field_2\n",
      "  Extra inputs are not permitted [type=extra_forbidden, input_value=2, input_type=int]\n",
      "    For further information visit https://errors.pydantic.dev/2.8/v/extra_forbidden\n"
     ]
    }
   ],
   "source": [
    "# This will raise an error because extra fields are forbidden\n",
    "try:\n",
    "    m2 = Model(field_1=1, field_2=2)\n",
    "except ValidationError as e:\n",
    "    print(e)"
   ]
  },
  {
   "cell_type": "code",
   "execution_count": 487,
   "metadata": {},
   "outputs": [],
   "source": [
    "class Model(BaseModel):\n",
    "    model_config = ConfigDict(extra=\"allow\")\n",
    "\n",
    "    field_1: int"
   ]
  },
  {
   "cell_type": "code",
   "execution_count": 488,
   "metadata": {},
   "outputs": [
    {
     "data": {
      "text/plain": [
       "{'extra': 'allow'}"
      ]
     },
     "metadata": {},
     "output_type": "display_data"
    }
   ],
   "source": [
    "display(Model.model_config)"
   ]
  },
  {
   "cell_type": "code",
   "execution_count": 489,
   "metadata": {},
   "outputs": [
    {
     "data": {
      "text/plain": [
       "Model(field_1=1, field_2=2)"
      ]
     },
     "metadata": {},
     "output_type": "display_data"
    },
    {
     "name": "stdout",
     "output_type": "stream",
     "text": [
      "model fields {'field_1': FieldInfo(annotation=int, required=True)}\n",
      "fields set {'field_1', 'field_2'}\n",
      "extra fields {'field_2': 2}\n"
     ]
    }
   ],
   "source": [
    "# This will not raise an error because extra fields are allowed\n",
    "m3 = Model(field_1=1, field_2=2)\n",
    "display(m3)\n",
    "print(\"model fields\",m3.model_fields)\n",
    "print(\"fields set\", m3.model_fields_set)\n",
    "\n",
    "# See extra fields\n",
    "print(\"extra fields\",m3.model_extra)"
   ]
  },
  {
   "cell_type": "markdown",
   "metadata": {},
   "source": [
    "## Strict and Lax Mode (Type Coercion)"
   ]
  },
  {
   "cell_type": "code",
   "execution_count": 490,
   "metadata": {},
   "outputs": [],
   "source": [
    "class Model(BaseModel):\n",
    "    field_1: str\n",
    "    field_2: float\n",
    "    field_3: list\n",
    "    field_4: tuple"
   ]
  },
  {
   "cell_type": "code",
   "execution_count": 491,
   "metadata": {},
   "outputs": [
    {
     "name": "stdout",
     "output_type": "stream",
     "text": [
      "1 validation error for Model\n",
      "field_1\n",
      "  Input should be a valid string [type=string_type, input_value=9999, input_type=int]\n",
      "    For further information visit https://errors.pydantic.dev/2.8/v/string_type\n"
     ]
    }
   ],
   "source": [
    "try:\n",
    "    Model(field_1=9999, field_2=2, field_3=(1,2,3), field_4=[1,2,3])\n",
    "except ValidationError as e:\n",
    "    print(e)"
   ]
  },
  {
   "cell_type": "code",
   "execution_count": 492,
   "metadata": {},
   "outputs": [
    {
     "data": {
      "text/plain": [
       "Model(field_1='9999', field_2=2.0, field_3=[1, 2, 3], field_4=(1, 2, 3))"
      ]
     },
     "execution_count": 492,
     "metadata": {},
     "output_type": "execute_result"
    }
   ],
   "source": [
    "Model(field_1=\"9999\", field_2=2, field_3=(1,2,3), field_4=[1,2,3])"
   ]
  },
  {
   "cell_type": "code",
   "execution_count": 493,
   "metadata": {},
   "outputs": [],
   "source": [
    "# Set strict mode to True\n",
    "class Model(BaseModel):\n",
    "    model_config = ConfigDict(strict=True)\n",
    "\n",
    "    field_1: str\n",
    "    field_2: float\n",
    "    field_3: list\n",
    "    field_4: tuple"
   ]
  },
  {
   "cell_type": "code",
   "execution_count": 494,
   "metadata": {},
   "outputs": [
    {
     "name": "stdout",
     "output_type": "stream",
     "text": [
      "2 validation errors for Model\n",
      "field_3\n",
      "  Input should be a valid list [type=list_type, input_value=(1, 2, 3), input_type=tuple]\n",
      "    For further information visit https://errors.pydantic.dev/2.8/v/list_type\n",
      "field_4\n",
      "  Input should be a valid tuple [type=tuple_type, input_value=[1, 2, 3], input_type=list]\n",
      "    For further information visit https://errors.pydantic.dev/2.8/v/tuple_type\n"
     ]
    }
   ],
   "source": [
    "try:\n",
    "    Model(field_1=\"9999\", field_2=2, field_3=(1,2,3), field_4=[1,2,3])\n",
    "except ValidationError as e:\n",
    "    print(e)"
   ]
  },
  {
   "cell_type": "markdown",
   "metadata": {},
   "source": [
    "https://docs.pydantic.dev/latest/concepts/conversion_table/#__tabbed_1_2"
   ]
  },
  {
   "cell_type": "code",
   "execution_count": 495,
   "metadata": {},
   "outputs": [],
   "source": [
    "json_data = \"\"\"\n",
    "{\n",
    "    \"field_1\": true,\n",
    "    \"field_2\": 10,\n",
    "    \"field_3\": 1,\n",
    "    \"field_4\": null,\n",
    "    \"field_5\": [1, 2, 3],\n",
    "    \"field_6\": [\"a\", \"b\", \"c\"],\n",
    "    \"field_7\": {\"a\": 1, \"b\": 2}\n",
    "}\n",
    "\"\"\""
   ]
  },
  {
   "cell_type": "code",
   "execution_count": 496,
   "metadata": {},
   "outputs": [],
   "source": [
    "class Model(BaseModel):\n",
    "    model_config = ConfigDict(strict=True)\n",
    "\n",
    "    field_1: bool\n",
    "    field_2: float\n",
    "    field_3: int\n",
    "    field_4: str | None\n",
    "    field_5: tuple[int, ...]\n",
    "    field_6: set[str]\n",
    "    field_7: dict"
   ]
  },
  {
   "cell_type": "code",
   "execution_count": 497,
   "metadata": {},
   "outputs": [
    {
     "data": {
      "text/plain": [
       "Model(field_1=True, field_2=10.0, field_3=1, field_4=None, field_5=(1, 2, 3), field_6={'a', 'c', 'b'}, field_7={'a': 1, 'b': 2})"
      ]
     },
     "metadata": {},
     "output_type": "display_data"
    }
   ],
   "source": [
    "data = Model.model_validate_json(json_data)\n",
    "display(data)"
   ]
  },
  {
   "cell_type": "code",
   "execution_count": 498,
   "metadata": {},
   "outputs": [
    {
     "name": "stdout",
     "output_type": "stream",
     "text": [
      "2 validation errors for Model\n",
      "field_5.2\n",
      "  Input should be a valid integer [type=int_type, input_value=3.5, input_type=float]\n",
      "    For further information visit https://errors.pydantic.dev/2.8/v/int_type\n",
      "field_6.2\n",
      "  Input should be a valid string [type=string_type, input_value=100, input_type=int]\n",
      "    For further information visit https://errors.pydantic.dev/2.8/v/string_type\n"
     ]
    }
   ],
   "source": [
    "json_data = \"\"\"\n",
    "{\n",
    "    \"field_1\": true,\n",
    "    \"field_2\": 10,\n",
    "    \"field_3\": 1,\n",
    "    \"field_4\": null,\n",
    "    \"field_5\": [1, 2, 3.5],\n",
    "    \"field_6\": [\"a\", \"b\", 100],\n",
    "    \"field_7\": {\"a\": 1, \"b\": 2}\n",
    "}\n",
    "\"\"\"\n",
    "\n",
    "try:\n",
    "    Model.model_validate_json(json_data)\n",
    "except ValidationError as ex:\n",
    "    print(ex)"
   ]
  },
  {
   "cell_type": "markdown",
   "metadata": {},
   "source": [
    "## Validating Default Values\n",
    "\n",
    "The default values of the fields are not validated by default. You can enable the validation of the default values by setting the `validate_assignment` to True.\n",
    "\n",
    "```python\n",
    "class Model(BaseModel):\n",
    "    model_config = ConfigDict(validate_default=True)\n",
    "```"
   ]
  },
  {
   "cell_type": "code",
   "execution_count": 499,
   "metadata": {},
   "outputs": [
    {
     "name": "stdout",
     "output_type": "stream",
     "text": [
      "field_1=None field_2=999\n"
     ]
    }
   ],
   "source": [
    "# Default behavior\n",
    "class Model(BaseModel):\n",
    "    field_1: int = None\n",
    "    field_2: str =  999\n",
    "\n",
    "m = Model()\n",
    "print(m)\n"
   ]
  },
  {
   "cell_type": "code",
   "execution_count": 500,
   "metadata": {},
   "outputs": [
    {
     "name": "stdout",
     "output_type": "stream",
     "text": [
      "2 validation errors for Model\n",
      "field_1\n",
      "  Input should be a valid integer [type=int_type, input_value=None, input_type=NoneType]\n",
      "    For further information visit https://errors.pydantic.dev/2.8/v/int_type\n",
      "field_2\n",
      "  Input should be a valid string [type=string_type, input_value=999, input_type=int]\n",
      "    For further information visit https://errors.pydantic.dev/2.8/v/string_type\n"
     ]
    }
   ],
   "source": [
    "# This will raise an error because the default values are not valid\n",
    "class Model(BaseModel):\n",
    "    model_config = ConfigDict(validate_default=True)\n",
    "    field_1: int = None\n",
    "    field_2: str =  999\n",
    "\n",
    "try:\n",
    "    Model()\n",
    "except ValidationError as ex:\n",
    "    print(ex)\n"
   ]
  },
  {
   "cell_type": "markdown",
   "metadata": {},
   "source": [
    "## Validating Assignment\n",
    "\n",
    "By default, Pydantic does not validate the assignment of the values to the fields. You can enable the validation of the assignment by setting the `validate_assignment` to True.\n",
    "\n",
    "```python\n",
    "class Model(BaseModel):\n",
    "    model_config = ConfigDict(validate_assignment=True)\n",
    "```"
   ]
  },
  {
   "cell_type": "code",
   "execution_count": 501,
   "metadata": {},
   "outputs": [
    {
     "data": {
      "text/plain": [
       "Model(field='string 😔')"
      ]
     },
     "metadata": {},
     "output_type": "display_data"
    }
   ],
   "source": [
    "# This will raise an error because the default values are not valid\n",
    "class Model(BaseModel):\n",
    "    field: int\n",
    "\n",
    "\n",
    "m = Model(field=1)\n",
    "m.field = \"string 😔\"\n",
    "display(m)"
   ]
  },
  {
   "cell_type": "code",
   "execution_count": 502,
   "metadata": {},
   "outputs": [
    {
     "name": "stdout",
     "output_type": "stream",
     "text": [
      "1 validation error for Model\n",
      "field\n",
      "  Input should be a valid integer, unable to parse string as an integer [type=int_parsing, input_value='string', input_type=str]\n",
      "    For further information visit https://errors.pydantic.dev/2.8/v/int_parsing\n"
     ]
    }
   ],
   "source": [
    "# This will raise an error because the default values are not valid\n",
    "class Model(BaseModel):\n",
    "    model_config = ConfigDict(validate_assignment=True)\n",
    "\n",
    "    field: int\n",
    "\n",
    "\n",
    "m = Model(field=1)\n",
    "\n",
    "try:\n",
    "    m.field = \"string\"\n",
    "except ValidationError as ex:\n",
    "    print(ex)\n"
   ]
  },
  {
   "cell_type": "markdown",
   "metadata": {},
   "source": [
    "# Mutability"
   ]
  },
  {
   "cell_type": "code",
   "execution_count": 503,
   "metadata": {},
   "outputs": [
    {
     "name": "stdout",
     "output_type": "stream",
     "text": [
      "field=1\n"
     ]
    }
   ],
   "source": [
    "class Model(BaseModel):\n",
    "    model_config = ConfigDict(frozen=True)\n",
    "\n",
    "    field: int\n",
    "\n",
    "m = Model(field=1)\n",
    "print(m)"
   ]
  },
  {
   "cell_type": "code",
   "execution_count": 504,
   "metadata": {},
   "outputs": [
    {
     "name": "stdout",
     "output_type": "stream",
     "text": [
      "1 validation error for Model\n",
      "field\n",
      "  Instance is frozen [type=frozen_instance, input_value=2, input_type=int]\n",
      "    For further information visit https://errors.pydantic.dev/2.8/v/frozen_instance\n"
     ]
    }
   ],
   "source": [
    "# You cannot change the value of a field because the model is frozen\n",
    "try:\n",
    "    m.field = 2\n",
    "except ValidationError as ex:\n",
    "    print(ex)"
   ]
  },
  {
   "cell_type": "markdown",
   "metadata": {},
   "source": [
    "## Standardizing String Fields\n",
    "\n"
   ]
  },
  {
   "cell_type": "code",
   "execution_count": 505,
   "metadata": {},
   "outputs": [
    {
     "data": {
      "text/plain": [
       "Model(field='hello')"
      ]
     },
     "metadata": {},
     "output_type": "display_data"
    },
    {
     "data": {
      "text/plain": [
       "Model(field='Python')"
      ]
     },
     "metadata": {},
     "output_type": "display_data"
    },
    {
     "data": {
      "text/plain": [
       "Model(field='Python')"
      ]
     },
     "metadata": {},
     "output_type": "display_data"
    },
    {
     "data": {
      "text/plain": [
       "True"
      ]
     },
     "metadata": {},
     "output_type": "display_data"
    }
   ],
   "source": [
    "class Model(BaseModel):\n",
    "    model_config = ConfigDict(str_strip_whitespace=True)\n",
    "\n",
    "    field: str\n",
    "\n",
    "m = Model(field=\"  hello  \")\n",
    "display(m)\n",
    "\n",
    "m1 = Model(field=\"  Python\\n\\t    \")\n",
    "display(m1)\n",
    "\n",
    "m2 = Model(field=\"\\n\\t  Python\\n\\t    \")\n",
    "display(m2)\n",
    "\n",
    "display(m1.field == m2.field)"
   ]
  },
  {
   "cell_type": "markdown",
   "metadata": {},
   "source": [
    "### Lowercase"
   ]
  },
  {
   "cell_type": "code",
   "execution_count": 506,
   "metadata": {},
   "outputs": [
    {
     "data": {
      "text/plain": [
       "Model(field='hello')"
      ]
     },
     "metadata": {},
     "output_type": "display_data"
    },
    {
     "data": {
      "text/plain": [
       "Model(field='python')"
      ]
     },
     "metadata": {},
     "output_type": "display_data"
    },
    {
     "data": {
      "text/plain": [
       "Model(field='python')"
      ]
     },
     "metadata": {},
     "output_type": "display_data"
    },
    {
     "data": {
      "text/plain": [
       "True"
      ]
     },
     "metadata": {},
     "output_type": "display_data"
    }
   ],
   "source": [
    "class Model(BaseModel):\n",
    "    model_config = ConfigDict(str_strip_whitespace=True, str_to_lower=True)\n",
    "\n",
    "    field: str\n",
    "\n",
    "m = Model(field=\"  HELLO  \")\n",
    "display(m)\n",
    "\n",
    "m1 = Model(field=\"  PythOn\\n\\t    \")\n",
    "display(m1)\n",
    "\n",
    "m2 = Model(field=\"\\n\\t  PYTHON\\n\\t    \")\n",
    "display(m2)\n",
    "\n",
    "display(m1.field == m2.field)"
   ]
  },
  {
   "cell_type": "markdown",
   "metadata": {},
   "source": [
    "### Uppercase"
   ]
  },
  {
   "cell_type": "code",
   "execution_count": 507,
   "metadata": {},
   "outputs": [
    {
     "data": {
      "text/plain": [
       "Model(field='HELLO')"
      ]
     },
     "metadata": {},
     "output_type": "display_data"
    },
    {
     "data": {
      "text/plain": [
       "Model(field='PYTHON')"
      ]
     },
     "metadata": {},
     "output_type": "display_data"
    },
    {
     "data": {
      "text/plain": [
       "Model(field='PYTHON')"
      ]
     },
     "metadata": {},
     "output_type": "display_data"
    },
    {
     "data": {
      "text/plain": [
       "True"
      ]
     },
     "metadata": {},
     "output_type": "display_data"
    }
   ],
   "source": [
    "class Model(BaseModel):\n",
    "    model_config = ConfigDict(str_strip_whitespace=True, str_to_upper=True)\n",
    "\n",
    "    field: str\n",
    "\n",
    "m = Model(field=\"  HeLLo  \")\n",
    "display(m)\n",
    "\n",
    "m1 = Model(field=\"  PythOn\\n\\t    \")\n",
    "display(m1)\n",
    "\n",
    "m2 = Model(field=\"\\n\\t  PYTHON\\n\\t    \")\n",
    "display(m2)\n",
    "\n",
    "display(m1.field == m2.field)"
   ]
  },
  {
   "cell_type": "markdown",
   "metadata": {},
   "source": [
    "# Handling Python Enum\n"
   ]
  },
  {
   "cell_type": "code",
   "execution_count": 508,
   "metadata": {},
   "outputs": [],
   "source": [
    "from enum import Enum\n",
    "\n",
    "class Color(Enum):\n",
    "    red = \"Red\"\n",
    "    green = \"Green\"\n",
    "    blue = \"Blue\"\n",
    "    orange = \"Orange\"\n",
    "    yellow = \"Yellow\"\n",
    "    cyan = \"Cyan\"\n",
    "    white = \"White\"\n",
    "    black = \"Black\""
   ]
  },
  {
   "cell_type": "code",
   "execution_count": 509,
   "metadata": {},
   "outputs": [
    {
     "data": {
      "text/plain": [
       "'Red'"
      ]
     },
     "metadata": {},
     "output_type": "display_data"
    },
    {
     "data": {
      "text/plain": [
       "'red'"
      ]
     },
     "metadata": {},
     "output_type": "display_data"
    }
   ],
   "source": [
    "display(Color.red.value)\n",
    "display(Color.red.name)"
   ]
  },
  {
   "cell_type": "code",
   "execution_count": 510,
   "metadata": {},
   "outputs": [
    {
     "data": {
      "text/plain": [
       "Model(color=<Color.red: 'Red'>)"
      ]
     },
     "execution_count": 510,
     "metadata": {},
     "output_type": "execute_result"
    }
   ],
   "source": [
    "class Model(BaseModel):\n",
    "    color: Color\n",
    "\n",
    "Model(color=Color.red)"
   ]
  },
  {
   "cell_type": "code",
   "execution_count": 511,
   "metadata": {},
   "outputs": [
    {
     "data": {
      "text/plain": [
       "Model(color=<Color.red: 'Red'>)"
      ]
     },
     "execution_count": 511,
     "metadata": {},
     "output_type": "execute_result"
    }
   ],
   "source": [
    "data_color = \"\"\"\n",
    "{\n",
    "    \"color\": \"Red\"\n",
    "}\n",
    "\"\"\"\n",
    "Model.model_validate_json(data_color)"
   ]
  },
  {
   "cell_type": "code",
   "execution_count": 512,
   "metadata": {},
   "outputs": [
    {
     "name": "stdout",
     "output_type": "stream",
     "text": [
      "1 validation error for Model\n",
      "color\n",
      "  Input should be 'Red', 'Green', 'Blue', 'Orange', 'Yellow', 'Cyan', 'White' or 'Black' [type=enum, input_value='Magenta', input_type=str]\n",
      "    For further information visit https://errors.pydantic.dev/2.8/v/enum\n"
     ]
    }
   ],
   "source": [
    "data_color_invalid = \"\"\"\n",
    "{\n",
    "    \"color\": \"Magenta\"\n",
    "}\n",
    "\"\"\"\n",
    "try:\n",
    "    Model.model_validate_json(data_color_invalid)\n",
    "except ValidationError as ex:\n",
    "    print(ex)"
   ]
  },
  {
   "cell_type": "code",
   "execution_count": 513,
   "metadata": {},
   "outputs": [
    {
     "data": {
      "text/plain": [
       "'Dict:'"
      ]
     },
     "metadata": {},
     "output_type": "display_data"
    },
    {
     "data": {
      "text/plain": [
       "{'color': <Color.red: 'Red'>}"
      ]
     },
     "metadata": {},
     "output_type": "display_data"
    },
    {
     "data": {
      "text/plain": [
       "'Json:'"
      ]
     },
     "metadata": {},
     "output_type": "display_data"
    },
    {
     "data": {
      "text/plain": [
       "'{\"color\":\"Red\"}'"
      ]
     },
     "metadata": {},
     "output_type": "display_data"
    }
   ],
   "source": [
    "m = Model.model_validate_json(data_color)\n",
    "display(\"Dict:\", m.model_dump())  # This will return a dictionary with the enum\n",
    "display(\"Json:\", m.model_dump_json()) # This will return a json string with the enum value"
   ]
  },
  {
   "cell_type": "markdown",
   "metadata": {},
   "source": [
    "We can use the `use_enum_values` parameter to return the enum value instead of the enum object in the dump methods\n"
   ]
  },
  {
   "cell_type": "code",
   "execution_count": 514,
   "metadata": {},
   "outputs": [
    {
     "data": {
      "text/plain": [
       "'Dict:'"
      ]
     },
     "metadata": {},
     "output_type": "display_data"
    },
    {
     "data": {
      "text/plain": [
       "{'color': 'Red'}"
      ]
     },
     "metadata": {},
     "output_type": "display_data"
    },
    {
     "data": {
      "text/plain": [
       "'Json:'"
      ]
     },
     "metadata": {},
     "output_type": "display_data"
    },
    {
     "data": {
      "text/plain": [
       "'{\"color\":\"Red\"}'"
      ]
     },
     "metadata": {},
     "output_type": "display_data"
    }
   ],
   "source": [
    "\n",
    "class Model(BaseModel):\n",
    "    model_config = ConfigDict(use_enum_values=True)\n",
    "    color: Color\n",
    "\n",
    "Model(color=Color.red)\n",
    "\n",
    "m = Model.model_validate_json(data_color)\n",
    "display(\"Dict:\", m.model_dump()) # This will return a dictionary with the enum value\n",
    "display(\"Json:\", m.model_dump_json()) # This will return a json string with the enum value"
   ]
  },
  {
   "cell_type": "markdown",
   "metadata": {},
   "source": [
    "### Caveats\n",
    "Because pydantic does not validate default values, even if you set `use_enum_values` to True, the default value will be the enum object. "
   ]
  },
  {
   "cell_type": "code",
   "execution_count": 515,
   "metadata": {},
   "outputs": [
    {
     "data": {
      "text/plain": [
       "Model(color=<Color.red: 'Red'>)"
      ]
     },
     "execution_count": 515,
     "metadata": {},
     "output_type": "execute_result"
    }
   ],
   "source": [
    "class Model(BaseModel):\n",
    "    model_config = ConfigDict(use_enum_values=True) # The model is set to use the enum values\n",
    "    color: Color = Color.red\n",
    "\n",
    "Model() # The default value is used, and it is should be the enum value \"Red\""
   ]
  },
  {
   "cell_type": "code",
   "execution_count": 516,
   "metadata": {},
   "outputs": [
    {
     "data": {
      "text/plain": [
       "Model(color='Red')"
      ]
     },
     "execution_count": 516,
     "metadata": {},
     "output_type": "execute_result"
    }
   ],
   "source": [
    "class Model(BaseModel):\n",
    "    model_config = ConfigDict(use_enum_values=True, validate_default=True)\n",
    "    color: Color = Color.red\n",
    "\n",
    "Model()"
   ]
  }
 ],
 "metadata": {
  "kernelspec": {
   "display_name": ".venv",
   "language": "python",
   "name": "python3"
  },
  "language_info": {
   "codemirror_mode": {
    "name": "ipython",
    "version": 3
   },
   "file_extension": ".py",
   "mimetype": "text/x-python",
   "name": "python",
   "nbconvert_exporter": "python",
   "pygments_lexer": "ipython3",
   "version": "3.10.13"
  }
 },
 "nbformat": 4,
 "nbformat_minor": 2
}
