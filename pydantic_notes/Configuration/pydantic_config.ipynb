{
 "cells": [
  {
   "cell_type": "markdown",
   "metadata": {},
   "source": [
    "# Pydantic Configurations\n",
    "\n",
    "> - Documentation: https://pydantic-docs.helpmanual.io/\n",
    "> - Configuration for Pydantic models: https://docs.pydantic.dev/latest/api/config/\n",
    "\n",
    "\n",
    "\n",
    "```python\n",
    "from pydantic import BaseModel, ConfigDict\n",
    "\n",
    "class Model(BaseModel):\n",
    "    model_config = ConfigDict()\n",
    "\n",
    "```"
   ]
  },
  {
   "cell_type": "markdown",
   "metadata": {},
   "source": [
    "## Handling Extra Fields"
   ]
  },
  {
   "cell_type": "code",
   "execution_count": 223,
   "metadata": {},
   "outputs": [],
   "source": [
    "from pydantic import BaseModel, ConfigDict, ValidationError\n",
    "\n",
    "class Model(BaseModel):\n",
    "    field_1: int"
   ]
  },
  {
   "cell_type": "code",
   "execution_count": 224,
   "metadata": {},
   "outputs": [
    {
     "data": {
      "text/plain": [
       "{}"
      ]
     },
     "metadata": {},
     "output_type": "display_data"
    }
   ],
   "source": [
    "display(Model.model_config)"
   ]
  },
  {
   "cell_type": "code",
   "execution_count": 225,
   "metadata": {},
   "outputs": [
    {
     "name": "stdout",
     "output_type": "stream",
     "text": [
      "field_1=1\n",
      "{'field_1': FieldInfo(annotation=int, required=True)}\n",
      "{'field_1'}\n",
      "None\n"
     ]
    }
   ],
   "source": [
    "# This will not raise an error because extra fields are allowed and ignored by default\n",
    "m1 = Model(field_1=1, field_2=2)\n",
    "print(m1)\n",
    "print(m1.model_fields)\n",
    "print(m1.model_fields_set)\n",
    "\n",
    "# See extra fields\n",
    "print(m1.model_extra)"
   ]
  },
  {
   "cell_type": "markdown",
   "metadata": {},
   "source": [
    "__extra__: \n",
    "\n",
    "Whether to ignore, allow, or forbid extra attributes during model initialization. Defaults to 'ignore'.\n",
    "You can configure how pydantic handles the attributes that are not defined in the model:\n",
    "\n",
    "- `allow` - Allow any extra attributes.\n",
    "- `forbid` - Forbid any extra attributes.\n",
    "- `ignore` - Ignore any extra attributes.\n",
    "\n",
    "\n",
    "Doc: https://docs.pydantic.dev/latest/api/config/#pydantic.config.ConfigDict.extra"
   ]
  },
  {
   "cell_type": "code",
   "execution_count": 226,
   "metadata": {},
   "outputs": [],
   "source": [
    "class Model(BaseModel):\n",
    "    model_config = ConfigDict(extra=\"forbid\")\n",
    "\n",
    "    field_1: int"
   ]
  },
  {
   "cell_type": "code",
   "execution_count": 227,
   "metadata": {},
   "outputs": [
    {
     "data": {
      "text/plain": [
       "{'extra': 'forbid'}"
      ]
     },
     "metadata": {},
     "output_type": "display_data"
    }
   ],
   "source": [
    "display(Model.model_config)"
   ]
  },
  {
   "cell_type": "code",
   "execution_count": 228,
   "metadata": {},
   "outputs": [
    {
     "name": "stdout",
     "output_type": "stream",
     "text": [
      "1 validation error for Model\n",
      "field_2\n",
      "  Extra inputs are not permitted [type=extra_forbidden, input_value=2, input_type=int]\n",
      "    For further information visit https://errors.pydantic.dev/2.8/v/extra_forbidden\n"
     ]
    }
   ],
   "source": [
    "# This will raise an error because extra fields are forbidden\n",
    "try:\n",
    "    m2 = Model(field_1=1, field_2=2)\n",
    "except ValidationError as e:\n",
    "    print(e)"
   ]
  },
  {
   "cell_type": "code",
   "execution_count": 229,
   "metadata": {},
   "outputs": [],
   "source": [
    "class Model(BaseModel):\n",
    "    model_config = ConfigDict(extra=\"allow\")\n",
    "\n",
    "    field_1: int"
   ]
  },
  {
   "cell_type": "code",
   "execution_count": 230,
   "metadata": {},
   "outputs": [
    {
     "data": {
      "text/plain": [
       "{'extra': 'allow'}"
      ]
     },
     "metadata": {},
     "output_type": "display_data"
    }
   ],
   "source": [
    "display(Model.model_config)"
   ]
  },
  {
   "cell_type": "code",
   "execution_count": 231,
   "metadata": {},
   "outputs": [
    {
     "data": {
      "text/plain": [
       "Model(field_1=1, field_2=2)"
      ]
     },
     "metadata": {},
     "output_type": "display_data"
    },
    {
     "name": "stdout",
     "output_type": "stream",
     "text": [
      "model fields {'field_1': FieldInfo(annotation=int, required=True)}\n",
      "fields set {'field_1', 'field_2'}\n",
      "extra fields {'field_2': 2}\n"
     ]
    }
   ],
   "source": [
    "# This will not raise an error because extra fields are allowed\n",
    "m3 = Model(field_1=1, field_2=2)\n",
    "display(m3)\n",
    "print(\"model fields\",m3.model_fields)\n",
    "print(\"fields set\", m3.model_fields_set)\n",
    "\n",
    "# See extra fields\n",
    "print(\"extra fields\",m3.model_extra)"
   ]
  },
  {
   "cell_type": "markdown",
   "metadata": {},
   "source": [
    "## Strict and Lax Mode (Type Coercion)"
   ]
  },
  {
   "cell_type": "code",
   "execution_count": 232,
   "metadata": {},
   "outputs": [],
   "source": [
    "class Model(BaseModel):\n",
    "    field_1: str\n",
    "    field_2: float\n",
    "    field_3: list\n",
    "    field_4: tuple"
   ]
  },
  {
   "cell_type": "code",
   "execution_count": 233,
   "metadata": {},
   "outputs": [
    {
     "name": "stdout",
     "output_type": "stream",
     "text": [
      "1 validation error for Model\n",
      "field_1\n",
      "  Input should be a valid string [type=string_type, input_value=9999, input_type=int]\n",
      "    For further information visit https://errors.pydantic.dev/2.8/v/string_type\n"
     ]
    }
   ],
   "source": [
    "try:\n",
    "    Model(field_1=9999, field_2=2, field_3=(1,2,3), field_4=[1,2,3])\n",
    "except ValidationError as e:\n",
    "    print(e)"
   ]
  },
  {
   "cell_type": "code",
   "execution_count": 234,
   "metadata": {},
   "outputs": [
    {
     "data": {
      "text/plain": [
       "Model(field_1='9999', field_2=2.0, field_3=[1, 2, 3], field_4=(1, 2, 3))"
      ]
     },
     "execution_count": 234,
     "metadata": {},
     "output_type": "execute_result"
    }
   ],
   "source": [
    "Model(field_1=\"9999\", field_2=2, field_3=(1,2,3), field_4=[1,2,3])"
   ]
  },
  {
   "cell_type": "code",
   "execution_count": 235,
   "metadata": {},
   "outputs": [],
   "source": [
    "# Set strict mode to True\n",
    "class Model(BaseModel):\n",
    "    model_config = ConfigDict(strict=True)\n",
    "\n",
    "    field_1: str\n",
    "    field_2: float\n",
    "    field_3: list\n",
    "    field_4: tuple"
   ]
  },
  {
   "cell_type": "code",
   "execution_count": 236,
   "metadata": {},
   "outputs": [
    {
     "name": "stdout",
     "output_type": "stream",
     "text": [
      "2 validation errors for Model\n",
      "field_3\n",
      "  Input should be a valid list [type=list_type, input_value=(1, 2, 3), input_type=tuple]\n",
      "    For further information visit https://errors.pydantic.dev/2.8/v/list_type\n",
      "field_4\n",
      "  Input should be a valid tuple [type=tuple_type, input_value=[1, 2, 3], input_type=list]\n",
      "    For further information visit https://errors.pydantic.dev/2.8/v/tuple_type\n"
     ]
    }
   ],
   "source": [
    "try:\n",
    "    Model(field_1=\"9999\", field_2=2, field_3=(1,2,3), field_4=[1,2,3])\n",
    "except ValidationError as e:\n",
    "    print(e)"
   ]
  },
  {
   "cell_type": "markdown",
   "metadata": {},
   "source": [
    "https://docs.pydantic.dev/latest/concepts/conversion_table/#__tabbed_1_2"
   ]
  },
  {
   "cell_type": "code",
   "execution_count": 237,
   "metadata": {},
   "outputs": [],
   "source": [
    "json_data = \"\"\"\n",
    "{\n",
    "    \"field_1\": true,\n",
    "    \"field_2\": 10,\n",
    "    \"field_3\": 1,\n",
    "    \"field_4\": null,\n",
    "    \"field_5\": [1, 2, 3],\n",
    "    \"field_6\": [\"a\", \"b\", \"c\"],\n",
    "    \"field_7\": {\"a\": 1, \"b\": 2}\n",
    "}\n",
    "\"\"\""
   ]
  },
  {
   "cell_type": "code",
   "execution_count": 238,
   "metadata": {},
   "outputs": [],
   "source": [
    "class Model(BaseModel):\n",
    "    model_config = ConfigDict(strict=True)\n",
    "\n",
    "    field_1: bool\n",
    "    field_2: float\n",
    "    field_3: int\n",
    "    field_4: str | None\n",
    "    field_5: tuple[int, ...]\n",
    "    field_6: set[str]\n",
    "    field_7: dict"
   ]
  },
  {
   "cell_type": "code",
   "execution_count": 239,
   "metadata": {},
   "outputs": [
    {
     "data": {
      "text/plain": [
       "Model(field_1=True, field_2=10.0, field_3=1, field_4=None, field_5=(1, 2, 3), field_6={'a', 'c', 'b'}, field_7={'a': 1, 'b': 2})"
      ]
     },
     "metadata": {},
     "output_type": "display_data"
    }
   ],
   "source": [
    "data = Model.model_validate_json(json_data)\n",
    "display(data)"
   ]
  },
  {
   "cell_type": "code",
   "execution_count": 240,
   "metadata": {},
   "outputs": [
    {
     "name": "stdout",
     "output_type": "stream",
     "text": [
      "2 validation errors for Model\n",
      "field_5.2\n",
      "  Input should be a valid integer [type=int_type, input_value=3.5, input_type=float]\n",
      "    For further information visit https://errors.pydantic.dev/2.8/v/int_type\n",
      "field_6.2\n",
      "  Input should be a valid string [type=string_type, input_value=100, input_type=int]\n",
      "    For further information visit https://errors.pydantic.dev/2.8/v/string_type\n"
     ]
    }
   ],
   "source": [
    "json_data = \"\"\"\n",
    "{\n",
    "    \"field_1\": true,\n",
    "    \"field_2\": 10,\n",
    "    \"field_3\": 1,\n",
    "    \"field_4\": null,\n",
    "    \"field_5\": [1, 2, 3.5],\n",
    "    \"field_6\": [\"a\", \"b\", 100],\n",
    "    \"field_7\": {\"a\": 1, \"b\": 2}\n",
    "}\n",
    "\"\"\"\n",
    "\n",
    "try:\n",
    "    Model.model_validate_json(json_data)\n",
    "except ValidationError as ex:\n",
    "    print(ex)"
   ]
  }
 ],
 "metadata": {
  "kernelspec": {
   "display_name": ".venv",
   "language": "python",
   "name": "python3"
  },
  "language_info": {
   "codemirror_mode": {
    "name": "ipython",
    "version": 3
   },
   "file_extension": ".py",
   "mimetype": "text/x-python",
   "name": "python",
   "nbconvert_exporter": "python",
   "pygments_lexer": "ipython3",
   "version": "3.10.13"
  }
 },
 "nbformat": 4,
 "nbformat_minor": 2
}
